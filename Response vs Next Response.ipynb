{
 "cells": [
  {
   "cell_type": "markdown",
   "id": "8c9a218d",
   "metadata": {},
   "source": [
    "# Figure 1: Response vs Next Response plot"
   ]
  },
  {
   "cell_type": "markdown",
   "id": "a9313dcb",
   "metadata": {},
   "source": [
    "## Settings"
   ]
  },
  {
   "cell_type": "code",
   "execution_count": 1,
   "id": "e629ab2b",
   "metadata": {},
   "outputs": [],
   "source": [
    "# dataset_name = 'olist_brazilian_ecommerce_customer_order_view'\n",
    "dataset_name = 'uci_online_retail_ii_customer_order_view'\n",
    "\n",
    "# response_col = 'r_BasketValue'\n",
    "response_col = 'r_BasketSize'\n",
    "\n",
    "normalize = True\n",
    "figsize = 1.9"
   ]
  },
  {
   "cell_type": "markdown",
   "id": "b7ddd55c",
   "metadata": {},
   "source": [
    "------"
   ]
  },
  {
   "cell_type": "code",
   "execution_count": 2,
   "id": "4de78aa4",
   "metadata": {},
   "outputs": [],
   "source": [
    "import seaborn as sns\n",
    "\n",
    "from oce_ecomm_abv_calculation.datasets.default_datasets import get_default_dataset_by_name\n",
    "from oce_ecomm_abv_calculation.plots.response_vs_next_response import (\n",
    "    append_next_analysis_unit_under_same_randomization_unit, \n",
    "    get_plot_params, \n",
    "    next_col_name,\n",
    "    output_file_path,\n",
    "    hist_zoomed_out_plot,\n",
    "    hist_zoomed_in_plot,\n",
    "    kde_plot\n",
    ")"
   ]
  },
  {
   "cell_type": "code",
   "execution_count": 3,
   "id": "d979521a",
   "metadata": {},
   "outputs": [],
   "source": [
    "dataset_df = (\n",
    "    append_next_analysis_unit_under_same_randomization_unit(\n",
    "        get_default_dataset_by_name(dataset_name),\n",
    "        normalize_response_cols=normalize\n",
    "    )\n",
    ")\n",
    "plot_dataset_df = dataset_df[dataset_df[next_col_name(\"AnalysisUnitId\")].notnull()]\n",
    "\n",
    "plot_params = get_plot_params(dataset_name=dataset_name, \n",
    "                              response_col=response_col,\n",
    "                              normalize=normalize)"
   ]
  },
  {
   "cell_type": "code",
   "execution_count": null,
   "id": "187da282",
   "metadata": {},
   "outputs": [],
   "source": [
    "dark_rayfish_plot = (\n",
    "    hist_zoomed_out_plot(\n",
    "        plot_dataset_df=plot_dataset_df,\n",
    "        plot_params=plot_params,\n",
    "        response_col=response_col,\n",
    "        size=figsize\n",
    "    )\n",
    ")\n",
    "\n",
    "if normalize and not ((\"olist\" in dataset_name) and response_col == \"r_BasketSize\"):\n",
    "    dark_rayfish_plot.ax_joint.set(xticks=[0,1,2,3], yticks=[0,1,2,3])\n",
    "\n",
    "dark_rayfish_plot\n",
    "\n",
    "dark_rayfish_plot.savefig(\n",
    "    output_file_path(dataset_name, response_col, normalize, plot_type=\"histzout\")\n",
    ")"
   ]
  },
  {
   "cell_type": "code",
   "execution_count": null,
   "id": "f0d13c14",
   "metadata": {},
   "outputs": [],
   "source": [
    "dark_rayfish_baby_plot = (\n",
    "    hist_zoomed_in_plot(\n",
    "        plot_dataset_df=plot_dataset_df,\n",
    "        plot_params=plot_params,\n",
    "        response_col=response_col,\n",
    "        size=figsize\n",
    "    )\n",
    ")\n",
    "\n",
    "dark_rayfish_baby_plot.savefig(\n",
    "    output_file_path(dataset_name, response_col, normalize, plot_type=\"histzin\")\n",
    ")"
   ]
  },
  {
   "cell_type": "code",
   "execution_count": null,
   "id": "a0a0843a",
   "metadata": {},
   "outputs": [],
   "source": [
    "light_rayfish_plot = (\n",
    "    kde_plot(\n",
    "        plot_dataset_df=plot_dataset_df,\n",
    "        plot_params=plot_params,\n",
    "        response_col=response_col,\n",
    "        size=figsize\n",
    "    )\n",
    ")\n",
    "\n",
    "if normalize and not ((\"olist\" in dataset_name) and (response_col == \"r_BasketSize\")):\n",
    "    light_rayfish_plot.ax_joint.set(xticks=[0,1,2,3], yticks=[0,1,2,3])\n",
    "\n",
    "light_rayfish_plot.savefig(\n",
    "    output_file_path(dataset_name, response_col, normalize, plot_type=\"kde\")\n",
    ")"
   ]
  },
  {
   "cell_type": "code",
   "execution_count": null,
   "id": "70631246",
   "metadata": {},
   "outputs": [],
   "source": []
  }
 ],
 "metadata": {
  "kernelspec": {
   "display_name": "Python 3 (ipykernel)",
   "language": "python",
   "name": "python3"
  },
  "language_info": {
   "codemirror_mode": {
    "name": "ipython",
    "version": 3
   },
   "file_extension": ".py",
   "mimetype": "text/x-python",
   "name": "python",
   "nbconvert_exporter": "python",
   "pygments_lexer": "ipython3",
   "version": "3.9.10"
  }
 },
 "nbformat": 4,
 "nbformat_minor": 5
}
