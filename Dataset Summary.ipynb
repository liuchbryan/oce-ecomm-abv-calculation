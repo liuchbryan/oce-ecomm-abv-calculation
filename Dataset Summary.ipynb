{
 "cells": [
  {
   "cell_type": "markdown",
   "id": "452924ea",
   "metadata": {},
   "source": [
    "This notebook summarizes the public datasets featured in our investigation. It provides:\n",
    "\n",
    "* Number of distinct customers\n",
    "* Number of distinct orders/baskets\n",
    "* Number of distinct product/SKUs\n",
    "* Number of items/units involved\n",
    "* Total amount of sales\n",
    "* Time of the first transaction featured in the dataset\n",
    "* Time of the last transaction featured in the dataset\n",
    "* Duration the dataset covers\n",
    "\n",
    "This should enable one to calculate the overall metrics such as average basket value (ABV), average basket size (ABS), and average selling price (ASP)."
   ]
  },
  {
   "cell_type": "code",
   "execution_count": 1,
   "id": "6ba58a16",
   "metadata": {},
   "outputs": [],
   "source": [
    "import os, sys\n",
    "sys.path.append(os.path.join(os.getcwd(), 'src/'))\n",
    "\n",
    "import pandas as pd\n",
    "\n",
    "from oce_ecomm_abv_calculation.datasets.olist_brazilian_ecommerce import OlistBrazilianEcommerceDataset\n",
    "from oce_ecomm_abv_calculation.datasets.uci_online_retail_ii import UCIOnlineRetailIIDataset"
   ]
  },
  {
   "cell_type": "markdown",
   "id": "0d7d3ffe",
   "metadata": {},
   "source": [
    "# UCI Online Retail II dataset"
   ]
  },
  {
   "cell_type": "code",
   "execution_count": 2,
   "id": "7462f87d",
   "metadata": {},
   "outputs": [
    {
     "data": {
      "text/html": [
       "<div>\n",
       "<style scoped>\n",
       "    .dataframe tbody tr th:only-of-type {\n",
       "        vertical-align: middle;\n",
       "    }\n",
       "\n",
       "    .dataframe tbody tr th {\n",
       "        vertical-align: top;\n",
       "    }\n",
       "\n",
       "    .dataframe thead th {\n",
       "        text-align: right;\n",
       "    }\n",
       "</style>\n",
       "<table border=\"1\" class=\"dataframe\">\n",
       "  <thead>\n",
       "    <tr style=\"text-align: right;\">\n",
       "      <th></th>\n",
       "      <th>num_customers</th>\n",
       "      <th>num_orders</th>\n",
       "      <th>num_products</th>\n",
       "      <th>num_units</th>\n",
       "      <th>total_sales</th>\n",
       "      <th>start_date</th>\n",
       "      <th>end_date</th>\n",
       "      <th>duration_days</th>\n",
       "    </tr>\n",
       "  </thead>\n",
       "  <tbody>\n",
       "    <tr>\n",
       "      <th>0</th>\n",
       "      <td>5852</td>\n",
       "      <td>36594</td>\n",
       "      <td>4621</td>\n",
       "      <td>10690447</td>\n",
       "      <td>1.743446e+07</td>\n",
       "      <td>2009-12-01 07:45:00</td>\n",
       "      <td>2011-12-09 12:50:00</td>\n",
       "      <td>738 days 05:05:00</td>\n",
       "    </tr>\n",
       "  </tbody>\n",
       "</table>\n",
       "</div>"
      ],
      "text/plain": [
       "   num_customers  num_orders  num_products  num_units   total_sales  \\\n",
       "0           5852       36594          4621   10690447  1.743446e+07   \n",
       "\n",
       "           start_date            end_date     duration_days  \n",
       "0 2009-12-01 07:45:00 2011-12-09 12:50:00 738 days 05:05:00  "
      ]
     },
     "execution_count": 2,
     "metadata": {},
     "output_type": "execute_result"
    }
   ],
   "source": [
    "uci_online_retail_ii_summary = UCIOnlineRetailIIDataset().summary()\n",
    "\n",
    "uci_online_retail_ii_summary"
   ]
  },
  {
   "cell_type": "code",
   "execution_count": 3,
   "id": "09c0b1ef",
   "metadata": {},
   "outputs": [
    {
     "name": "stdout",
     "output_type": "stream",
     "text": [
      "ABV: 476.42959903262835\n",
      "ABS: 292.1366070940591\n",
      "ASP: 1.6308452534304694\n"
     ]
    }
   ],
   "source": [
    "print(f\"ABV: {uci_online_retail_ii_summary.loc[0, 'total_sales'] / uci_online_retail_ii_summary.loc[0, 'num_orders']}\")\n",
    "print(f\"ABS: {uci_online_retail_ii_summary.loc[0, 'num_units'] / uci_online_retail_ii_summary.loc[0, 'num_orders']}\")\n",
    "print(f\"ASP: {uci_online_retail_ii_summary.loc[0, 'total_sales'] / uci_online_retail_ii_summary.loc[0, 'num_units']}\")"
   ]
  },
  {
   "cell_type": "markdown",
   "id": "3d4271e6",
   "metadata": {},
   "source": [
    "# Olist Brazilian e-Commerce dataset"
   ]
  },
  {
   "cell_type": "code",
   "execution_count": 4,
   "id": "d9d07e3b",
   "metadata": {},
   "outputs": [
    {
     "data": {
      "text/html": [
       "<div>\n",
       "<style scoped>\n",
       "    .dataframe tbody tr th:only-of-type {\n",
       "        vertical-align: middle;\n",
       "    }\n",
       "\n",
       "    .dataframe tbody tr th {\n",
       "        vertical-align: top;\n",
       "    }\n",
       "\n",
       "    .dataframe thead th {\n",
       "        text-align: right;\n",
       "    }\n",
       "</style>\n",
       "<table border=\"1\" class=\"dataframe\">\n",
       "  <thead>\n",
       "    <tr style=\"text-align: right;\">\n",
       "      <th></th>\n",
       "      <th>num_customers</th>\n",
       "      <th>num_orders</th>\n",
       "      <th>num_products</th>\n",
       "      <th>num_units</th>\n",
       "      <th>total_sales</th>\n",
       "      <th>start_date</th>\n",
       "      <th>end_date</th>\n",
       "      <th>duration_days</th>\n",
       "    </tr>\n",
       "  </thead>\n",
       "  <tbody>\n",
       "    <tr>\n",
       "      <th>0</th>\n",
       "      <td>94983</td>\n",
       "      <td>98199</td>\n",
       "      <td>32729</td>\n",
       "      <td>112101</td>\n",
       "      <td>13494400.74</td>\n",
       "      <td>2016-09-04 21:15:19</td>\n",
       "      <td>2018-09-03 09:06:57</td>\n",
       "      <td>728 days 11:51:38</td>\n",
       "    </tr>\n",
       "  </tbody>\n",
       "</table>\n",
       "</div>"
      ],
      "text/plain": [
       "   num_customers  num_orders  num_products  num_units  total_sales  \\\n",
       "0          94983       98199         32729     112101  13494400.74   \n",
       "\n",
       "           start_date            end_date     duration_days  \n",
       "0 2016-09-04 21:15:19 2018-09-03 09:06:57 728 days 11:51:38  "
      ]
     },
     "execution_count": 4,
     "metadata": {},
     "output_type": "execute_result"
    }
   ],
   "source": [
    "olist_summary = OlistBrazilianEcommerceDataset().summary()\n",
    "\n",
    "olist_summary"
   ]
  },
  {
   "cell_type": "code",
   "execution_count": 5,
   "id": "ab4378ee",
   "metadata": {},
   "outputs": [
    {
     "name": "stdout",
     "output_type": "stream",
     "text": [
      "ABV: 137.418922188617\n",
      "ABS: 1.1415696697522377\n",
      "ASP: 120.37716648379586\n"
     ]
    }
   ],
   "source": [
    "print(f\"ABV: {olist_summary.loc[0, 'total_sales'] / olist_summary.loc[0, 'num_orders']}\")\n",
    "print(f\"ABS: {olist_summary.loc[0, 'num_units'] / olist_summary.loc[0, 'num_orders']}\")\n",
    "print(f\"ASP: {olist_summary.loc[0, 'total_sales'] / olist_summary.loc[0, 'num_units']}\")"
   ]
  },
  {
   "cell_type": "code",
   "execution_count": null,
   "id": "a04e401d",
   "metadata": {},
   "outputs": [],
   "source": []
  }
 ],
 "metadata": {
  "kernelspec": {
   "display_name": "Python 3 (ipykernel)",
   "language": "python",
   "name": "python3"
  },
  "language_info": {
   "codemirror_mode": {
    "name": "ipython",
    "version": 3
   },
   "file_extension": ".py",
   "mimetype": "text/x-python",
   "name": "python",
   "nbconvert_exporter": "python",
   "pygments_lexer": "ipython3",
   "version": "3.9.10"
  }
 },
 "nbformat": 4,
 "nbformat_minor": 5
}
