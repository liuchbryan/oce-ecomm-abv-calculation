{
 "cells": [
  {
   "cell_type": "markdown",
   "id": "5ac89937",
   "metadata": {},
   "source": [
    "# Experiments\n",
    "\n",
    "This notebook shows sample experiments we ran to estimate/re-estimate the standard errror of e-commerce metrics, e.g., ABV, ABS, ASP.\n",
    "\n",
    "Experiment tracking is done via simple data files."
   ]
  },
  {
   "cell_type": "code",
   "execution_count": null,
   "id": "fbfeeb6c",
   "metadata": {},
   "outputs": [],
   "source": [
    "import os, sys\n",
    "sys.path.append(os.path.join(os.getcwd(), 'src/'))\n",
    "\n",
    "from datetime import datetime\n",
    "import glob\n",
    "\n",
    "from oce_ecomm_abv_calculation.sample_statistics.vanilla import VanillaSampleStatistics\n",
    "from oce_ecomm_abv_calculation.sample_statistics.oneway_bootstrap import OnewayBootstrapStatistics\n",
    "from oce_ecomm_abv_calculation.utils.experiment_data import consolidate_experiment_data_files"
   ]
  },
  {
   "cell_type": "markdown",
   "id": "f4c9ad16",
   "metadata": {},
   "source": [
    "# UCI Online Retail II Dataset"
   ]
  },
  {
   "cell_type": "markdown",
   "id": "9e19c37a",
   "metadata": {},
   "source": [
    "Some end dates used in our experiments:\n",
    "\n",
    "* `datetime(2009, 12, 8)` - 7 days\n",
    "* `datetime(2009, 12, 15)` - 14 days\n",
    "* `datetime(2009, 12, 22)` - 21 days / 3 weeks\n",
    "* `datetime(2009, 12, 29)` - 28 days / 4 weeks\n",
    "* `datetime(2010, 1, 5)` - 35 days / 5 weeks\n",
    "* `datetime(2010, 1, 12)` - 42 days / 6 weeks\n",
    "* `datetime(2010, 1, 19)` - 49 days / 7 weeks\n",
    "* `datetime(2010, 1, 26)` - 56 days / 8 weeks\n",
    "* `datetime(2010, 2, 2)` - 63 days / 9 weeks\n",
    "* `datetime(2010, 2, 13)` - 74 days (10% of dataset duration)\n",
    "* `datetime(2010, 3, 1)` - 3 months\n",
    "* `datetime(2010, 4, 1)` - 4 months\n",
    "* `datetime(2010, 4, 28)` - 148 days (20% of dataset duration)\n",
    "* `datetime(2010, 6, 1)` - 6 months\n",
    "* `datetime(2010, 7, 11)` - 222 days (30% of dataset duration)\n",
    "* `datetime(2010, 9, 23)` - 296 days (40% of dataset duration)\n",
    "* `datetime(2010, 12, 6)` - 370 days (50% of dataset duration)\n",
    "* `datetime(2011, 2, 18)` - 444 days (60% of dataset duration)\n",
    "* `datetime(2011, 5, 3)` - 518 days (70% of dataset duration)\n",
    "* `datetime(2011, 7, 16)` - 592 days (80% of dataset duration)\n",
    "* `datetime(2011, 9, 28)` - 666 days (90% of dataset duration)\n",
    "* `datetime(2012, 1, 1)` - Full dataset duration\n",
    "\n",
    "These end dates define the expanding windows, which simulate different experiment durations."
   ]
  },
  {
   "cell_type": "markdown",
   "id": "ffd18940",
   "metadata": {},
   "source": [
    "## UCI Online Retail II - ABV"
   ]
  },
  {
   "cell_type": "code",
   "execution_count": null,
   "id": "2b4ecc57",
   "metadata": {},
   "outputs": [],
   "source": [
    "start_date = datetime(2009, 12, 1)\n",
    "end_date = datetime(2009, 12, 29)\n",
    "\n",
    "num_std_error_samples = 5\n",
    "num_bootstrap_means = 500\n",
    "\n",
    "# Vanilla sample statistics\n",
    "VanillaSampleStatistics(\n",
    "    dataset=\"uci_online_retail_ii_customer_order_view\",\n",
    "    response_col='r_BasketValue',\n",
    "    start_time=start_date,\n",
    "    end_time=end_date\n",
    ").save_statistics_as_pd_df()\n",
    "\n",
    "print(f\"Vanilla sample statistics saved.             \")\n",
    "\n",
    "# Oneway bootstrap statistics\n",
    "uci_retail_co_abv_oneway = (\n",
    "    OnewayBootstrapStatistics(\n",
    "        dataset=\"uci_online_retail_ii_customer_order_view\",\n",
    "        response_col='r_BasketValue',\n",
    "        start_time=start_date,\n",
    "        end_time=end_date\n",
    "    )\n",
    ")\n",
    "\n",
    "for i in range(1, num_std_error_samples + 1):\n",
    "    uci_retail_co_abv_oneway.standard_error(num_bootstrap_means=num_bootstrap_means, verbose=True)\n",
    "    uci_retail_co_abv_oneway.save_latest_result_as_pd_df()\n",
    "    print(f\"Oneway bootstrap run {i} saved.             \")"
   ]
  },
  {
   "cell_type": "markdown",
   "id": "7fab1682",
   "metadata": {},
   "source": [
    "## UCI Online Retail II - ABS"
   ]
  },
  {
   "cell_type": "code",
   "execution_count": null,
   "id": "cd2b6495",
   "metadata": {},
   "outputs": [],
   "source": [
    "start_date = datetime(2009, 12, 1)\n",
    "end_date = datetime(2009, 12, 29)\n",
    "\n",
    "num_std_error_samples = 5\n",
    "num_bootstrap_means = 500\n",
    "\n",
    "# Vanilla sample statistics\n",
    "VanillaSampleStatistics(\n",
    "    dataset=\"uci_online_retail_ii_customer_order_view\",\n",
    "    response_col='r_BasketSize',\n",
    "    start_time=start_date,\n",
    "    end_time=end_date\n",
    ").save_statistics_as_pd_df()\n",
    "\n",
    "print(f\"Vanilla sample statistics saved.            \")\n",
    "\n",
    "# Oneway bootstrap statistics\n",
    "uci_retail_co_abs_oneway = (\n",
    "    OnewayBootstrapStatistics(\n",
    "        dataset=\"uci_online_retail_ii_customer_order_view\",\n",
    "        response_col='r_BasketSize',\n",
    "        start_time=start_date,\n",
    "        end_time=end_date\n",
    "    )\n",
    ")\n",
    "\n",
    "for i in range(1, num_std_error_samples + 1):\n",
    "    uci_retail_co_abs_oneway.standard_error(num_bootstrap_means=num_bootstrap_means, verbose=True)\n",
    "    uci_retail_co_abs_oneway.save_latest_result_as_pd_df()\n",
    "    print(f\"Oneway bootstrap run {i} saved.             \")"
   ]
  },
  {
   "cell_type": "markdown",
   "id": "ffab4bb6",
   "metadata": {},
   "source": [
    "## UCI Online Retail II - ASP"
   ]
  },
  {
   "cell_type": "code",
   "execution_count": null,
   "id": "8e5678db",
   "metadata": {},
   "outputs": [],
   "source": [
    "start_date = datetime(2009, 12, 1)\n",
    "end_date = datetime(2009, 12, 29)\n",
    "\n",
    "num_std_error_samples = 1\n",
    "num_bootstrap_means = 500\n",
    "\n",
    "# Vanilla sample statistics\n",
    "VanillaSampleStatistics(\n",
    "    dataset=\"uci_online_retail_ii_customer_order_item_view\",\n",
    "    response_col='r_SellingPrice',\n",
    "    start_time=start_date,\n",
    "    end_time=end_date\n",
    ").save_statistics_as_pd_df()\n",
    "\n",
    "print(f\"Vanilla sample statistics saved.             \")\n",
    "\n",
    "# Oneway bootstrap statistics\n",
    "uci_retail_coi_asp_oneway = (\n",
    "    OnewayBootstrapStatistics(\n",
    "        dataset=\"uci_online_retail_ii_customer_order_item_view\",\n",
    "        response_col='r_SellingPrice',\n",
    "        start_time=start_date,\n",
    "        end_time=end_date\n",
    "    )\n",
    ")\n",
    "\n",
    "for i in range(1, num_std_error_samples + 1):\n",
    "    uci_retail_coi_asp_oneway.standard_error(num_bootstrap_means=num_bootstrap_means, verbose=True)\n",
    "    uci_retail_coi_asp_oneway.save_latest_result_as_pd_df()\n",
    "    print(f\"Oneway bootstrap run {i} saved.              \")"
   ]
  },
  {
   "cell_type": "markdown",
   "id": "c86c3436",
   "metadata": {},
   "source": [
    "# Olist Brazilian e-Commerce Dataset\n",
    "\n",
    "Some end dates used in our experiments:\n",
    "\n",
    "* `datetime(2016, 10, 18)` - first month (with only 2 orders) + 14 days\n",
    "* `datetime(2016, 11, 1)` - first month (with only 2 orders) + 28 days\n",
    "* `datetime(2016, 11, 15)` - first month (with only 2 orders) + 42 days / 6 weeks\n",
    "* `datetime(2016, 11, 29)` - first month (with only 2 orders) + 56 days / 8 weeks\n",
    "* `datetime(2017, 1, 28)` - 146 days (20% of dataset duration)\n",
    "* `datetime(2017, 4, 11)` - 219 days (30% of dataset duration)\n",
    "* `datetime(2017, 6, 23)` - 292 days (40% of dataset duration)\n",
    "* `datetime(2017, 9, 4)` - 365 days (50% of dataset duration / 1 year)\n",
    "* `datetime(2017, 11, 16)` - 438 days (60% of dataset duration)\n",
    "* `datetime(2018, 1, 28)` - 511 days (70% of dataset duration)\n",
    "* `datetime(2018, 4, 11)` - 584 days (80% of dataset duration)\n",
    "* `datetime(2018, 6, 23)` - 657 days (90% of dataset duration)\n",
    "* `datetime(2018, 9, 4)` - Full dataset duration\n",
    "\n",
    "These end dates define the expanding windows, which simulate different experiment durations."
   ]
  },
  {
   "cell_type": "markdown",
   "id": "62b2ca58",
   "metadata": {},
   "source": [
    "## Olist Brazilian e-Commerce - ABV"
   ]
  },
  {
   "cell_type": "code",
   "execution_count": null,
   "id": "47b68f60",
   "metadata": {},
   "outputs": [],
   "source": [
    "start_date = datetime(2016, 9, 4)\n",
    "end_date = datetime(2016, 11, 1)\n",
    "\n",
    "num_std_error_samples = 5\n",
    "num_bootstrap_means = 500\n",
    "\n",
    "# Vanilla sample statistics\n",
    "VanillaSampleStatistics(\n",
    "    dataset=\"olist_brazilian_ecommerce_customer_order_view\",\n",
    "    response_col='r_BasketValue',\n",
    "    start_time=start_date,\n",
    "    end_time=end_date\n",
    ").save_statistics_as_pd_df()\n",
    "\n",
    "print(f\"Vanilla sample statistics saved.                 \")\n",
    "\n",
    "# Oneway bootstrap statistics\n",
    "olist_ecommerce_co_abv_oneway = (\n",
    "    OnewayBootstrapStatistics(\n",
    "        dataset=\"olist_brazilian_ecommerce_customer_order_view\",\n",
    "        response_col='r_BasketValue',\n",
    "        start_time=start_date,\n",
    "        end_time=end_date\n",
    "    )\n",
    ")\n",
    "\n",
    "for i in range(1, num_std_error_samples + 1):\n",
    "    olist_ecommerce_co_abv_oneway.standard_error(num_bootstrap_means=num_bootstrap_means, verbose=True)\n",
    "    olist_ecommerce_co_abv_oneway.save_latest_result_as_pd_df()\n",
    "    print(f\"Oneway bootstrap run {i} saved.                  \")"
   ]
  },
  {
   "cell_type": "markdown",
   "id": "3fd7c649",
   "metadata": {},
   "source": [
    "## Olist Brazilian e-Commerce - ABS"
   ]
  },
  {
   "cell_type": "code",
   "execution_count": null,
   "id": "54bcd370",
   "metadata": {},
   "outputs": [],
   "source": [
    "start_date = datetime(2016, 9, 4)\n",
    "end_date = datetime(2016, 11, 1)\n",
    "\n",
    "num_std_error_samples = 5\n",
    "num_bootstrap_means = 500\n",
    "\n",
    "# Vanilla sample statistics\n",
    "VanillaSampleStatistics(\n",
    "    dataset=\"olist_brazilian_ecommerce_customer_order_view\",\n",
    "    response_col='r_BasketSize',\n",
    "    start_time=start_date,\n",
    "    end_time=end_date\n",
    ").save_statistics_as_pd_df()\n",
    "\n",
    "print(f\"Vanilla sample statistics saved.                 \")\n",
    "\n",
    "# Oneway bootstrap statistics\n",
    "olist_ecommerce_co_abs_oneway = (\n",
    "    OnewayBootstrapStatistics(\n",
    "        dataset=\"olist_brazilian_ecommerce_customer_order_view\",\n",
    "        response_col='r_BasketSize',\n",
    "        start_time=start_date,\n",
    "        end_time=end_date\n",
    "    )\n",
    ")\n",
    "\n",
    "for i in range(1, num_std_error_samples + 1):\n",
    "    olist_ecommerce_co_abs_oneway.standard_error(num_bootstrap_means=num_bootstrap_means, verbose=True)\n",
    "    olist_ecommerce_co_abs_oneway.save_latest_result_as_pd_df()\n",
    "    print(f\"Oneway bootstrap run {i} saved.                  \")"
   ]
  },
  {
   "cell_type": "markdown",
   "id": "29404a28",
   "metadata": {},
   "source": [
    "## Olist Brazilian e-Commerce - ASP"
   ]
  },
  {
   "cell_type": "code",
   "execution_count": null,
   "id": "fb92fdc4",
   "metadata": {},
   "outputs": [],
   "source": [
    "start_date = datetime(2016, 9, 4)\n",
    "end_date = datetime(2016, 11, 1)\n",
    "\n",
    "num_std_error_samples = 5\n",
    "num_bootstrap_means = 500\n",
    "\n",
    "# Vanilla sample statistics\n",
    "VanillaSampleStatistics(\n",
    "    dataset=\"olist_brazilian_ecommerce_customer_order_item_view\",\n",
    "    response_col='r_SellingPrice',\n",
    "    start_time=start_date,\n",
    "    end_time=end_date\n",
    ").save_statistics_as_pd_df()\n",
    "\n",
    "print(f\"Vanilla sample statistics saved.                  \")\n",
    "\n",
    "# Oneway bootstrap statistics\n",
    "olist_ecommerce_coi_asp_oneway = (\n",
    "    OnewayBootstrapStatistics(\n",
    "        dataset=\"olist_brazilian_ecommerce_customer_order_item_view\",\n",
    "        response_col='r_SellingPrice',\n",
    "        start_time=start_date,\n",
    "        end_time=end_date\n",
    "    )\n",
    ")\n",
    "\n",
    "for i in range(1, num_std_error_samples + 1):\n",
    "    olist_ecommerce_coi_asp_oneway.standard_error(num_bootstrap_means=num_bootstrap_means, verbose=True)\n",
    "    olist_ecommerce_coi_asp_oneway.save_latest_result_as_pd_df()\n",
    "    print(f\"Oneway bootstrap run {i} saved.                   \")"
   ]
  },
  {
   "cell_type": "markdown",
   "id": "f33797a4",
   "metadata": {},
   "source": [
    "# Utilities\n"
   ]
  },
  {
   "cell_type": "markdown",
   "id": "cc63e01b",
   "metadata": {},
   "source": [
    "The following cell consolidates the many parquet files generated by each `save_as_pd_df()` to a dataframe in a single parquet file."
   ]
  },
  {
   "cell_type": "code",
   "execution_count": null,
   "id": "e32fc5f6",
   "metadata": {},
   "outputs": [],
   "source": [
    "expt_method = \"vanilla\"                              # e.g. \"vanilla\", \"oneway\"\n",
    "dataset = \"uci_online_retail_ii_customer_order_view\" # e.g. \"olist_brazilian_ecommerce_customer_order_view\"\n",
    "response_col = \"r_BasketValue\"                       # e.g. \"r_BasketValue\", \"r_BasketSize\", \"r_SellingPrice\"\n",
    "expt_data_dir_path = \"./data/\"\n",
    "\n",
    "\n",
    "consolidate_experiment_data_files(\n",
    "    dir_path=expt_data_dir_path,\n",
    "    expt_method=expt_method,\n",
    "    dataset=dataset,\n",
    "    response_col=response_col,\n",
    "    cleanup_files=True\n",
    ")"
   ]
  },
  {
   "cell_type": "code",
   "execution_count": null,
   "id": "28f0a665",
   "metadata": {},
   "outputs": [],
   "source": []
  }
 ],
 "metadata": {
  "kernelspec": {
   "display_name": "Python 3 (ipykernel)",
   "language": "python",
   "name": "python3"
  },
  "language_info": {
   "codemirror_mode": {
    "name": "ipython",
    "version": 3
   },
   "file_extension": ".py",
   "mimetype": "text/x-python",
   "name": "python",
   "nbconvert_exporter": "python",
   "pygments_lexer": "ipython3",
   "version": "3.9.10"
  }
 },
 "nbformat": 4,
 "nbformat_minor": 5
}
