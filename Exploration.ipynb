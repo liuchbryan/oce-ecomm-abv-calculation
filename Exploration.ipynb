{
 "cells": [
  {
   "cell_type": "code",
   "execution_count": 1,
   "id": "1ff40288",
   "metadata": {},
   "outputs": [],
   "source": [
    "import os, sys\n",
    "sys.path.append(os.path.join(os.getcwd(), 'src/'))\n",
    "\n",
    "import pandas as pd\n",
    "pd.set_option('display.max_rows', 500)\n",
    "\n",
    "from oce_ecomm_abv_calculation.datasets.default_datasets import uci_online_retail_ii_customer_order_view\n",
    "from oce_ecomm_abv_calculation.sample_statistics.vanilla import VanillaSampleStatistics\n",
    "from oce_ecomm_abv_calculation.sample_statistics.oneway_bootstrap import OnewayBootstrapStatistics\n",
    "from datetime import datetime\n",
    "\n",
    "from matplotlib import pyplot as plt\n",
    "import numpy as np"
   ]
  },
  {
   "cell_type": "code",
   "execution_count": 2,
   "id": "1bc7e7a6",
   "metadata": {},
   "outputs": [],
   "source": [
    "uci_retail_co_df = uci_online_retail_ii_customer_order_view()"
   ]
  },
  {
   "cell_type": "code",
   "execution_count": 3,
   "id": "7c957b4b",
   "metadata": {},
   "outputs": [
    {
     "data": {
      "text/html": [
       "<div>\n",
       "<style scoped>\n",
       "    .dataframe tbody tr th:only-of-type {\n",
       "        vertical-align: middle;\n",
       "    }\n",
       "\n",
       "    .dataframe tbody tr th {\n",
       "        vertical-align: top;\n",
       "    }\n",
       "\n",
       "    .dataframe thead th {\n",
       "        text-align: right;\n",
       "    }\n",
       "</style>\n",
       "<table border=\"1\" class=\"dataframe\">\n",
       "  <thead>\n",
       "    <tr style=\"text-align: right;\">\n",
       "      <th></th>\n",
       "      <th>RandomizationUnitId</th>\n",
       "      <th>AnalysisUnitId</th>\n",
       "      <th>EventReceivedTime</th>\n",
       "      <th>r_BasketValue</th>\n",
       "      <th>r_BasketSize</th>\n",
       "    </tr>\n",
       "  </thead>\n",
       "  <tbody>\n",
       "    <tr>\n",
       "      <th>0</th>\n",
       "      <td>12346</td>\n",
       "      <td>499763</td>\n",
       "      <td>2010-03-02 13:08:00</td>\n",
       "      <td>27.05</td>\n",
       "      <td>5</td>\n",
       "    </tr>\n",
       "    <tr>\n",
       "      <th>1</th>\n",
       "      <td>12346</td>\n",
       "      <td>513774</td>\n",
       "      <td>2010-06-28 13:53:00</td>\n",
       "      <td>142.31</td>\n",
       "      <td>19</td>\n",
       "    </tr>\n",
       "    <tr>\n",
       "      <th>2</th>\n",
       "      <td>12346</td>\n",
       "      <td>541431</td>\n",
       "      <td>2011-01-18 10:01:00</td>\n",
       "      <td>77183.60</td>\n",
       "      <td>74215</td>\n",
       "    </tr>\n",
       "    <tr>\n",
       "      <th>3</th>\n",
       "      <td>12347</td>\n",
       "      <td>529924</td>\n",
       "      <td>2010-10-31 14:20:00</td>\n",
       "      <td>611.53</td>\n",
       "      <td>509</td>\n",
       "    </tr>\n",
       "    <tr>\n",
       "      <th>4</th>\n",
       "      <td>12347</td>\n",
       "      <td>537626</td>\n",
       "      <td>2010-12-07 14:57:00</td>\n",
       "      <td>1423.58</td>\n",
       "      <td>638</td>\n",
       "    </tr>\n",
       "    <tr>\n",
       "      <th>...</th>\n",
       "      <td>...</td>\n",
       "      <td>...</td>\n",
       "      <td>...</td>\n",
       "      <td>...</td>\n",
       "      <td>...</td>\n",
       "    </tr>\n",
       "    <tr>\n",
       "      <th>36589</th>\n",
       "      <td>18287</td>\n",
       "      <td>523290</td>\n",
       "      <td>2010-09-21 12:19:00</td>\n",
       "      <td>30.60</td>\n",
       "      <td>12</td>\n",
       "    </tr>\n",
       "    <tr>\n",
       "      <th>36590</th>\n",
       "      <td>18287</td>\n",
       "      <td>534346</td>\n",
       "      <td>2010-11-22 11:51:00</td>\n",
       "      <td>331.50</td>\n",
       "      <td>186</td>\n",
       "    </tr>\n",
       "    <tr>\n",
       "      <th>36591</th>\n",
       "      <td>18287</td>\n",
       "      <td>554065</td>\n",
       "      <td>2011-05-22 10:39:00</td>\n",
       "      <td>765.28</td>\n",
       "      <td>488</td>\n",
       "    </tr>\n",
       "    <tr>\n",
       "      <th>36592</th>\n",
       "      <td>18287</td>\n",
       "      <td>570715</td>\n",
       "      <td>2011-10-12 10:23:00</td>\n",
       "      <td>1001.32</td>\n",
       "      <td>990</td>\n",
       "    </tr>\n",
       "    <tr>\n",
       "      <th>36593</th>\n",
       "      <td>18287</td>\n",
       "      <td>573167</td>\n",
       "      <td>2011-10-28 09:29:00</td>\n",
       "      <td>70.68</td>\n",
       "      <td>108</td>\n",
       "    </tr>\n",
       "  </tbody>\n",
       "</table>\n",
       "<p>36594 rows × 5 columns</p>\n",
       "</div>"
      ],
      "text/plain": [
       "       RandomizationUnitId  AnalysisUnitId   EventReceivedTime  r_BasketValue  \\\n",
       "0                    12346          499763 2010-03-02 13:08:00          27.05   \n",
       "1                    12346          513774 2010-06-28 13:53:00         142.31   \n",
       "2                    12346          541431 2011-01-18 10:01:00       77183.60   \n",
       "3                    12347          529924 2010-10-31 14:20:00         611.53   \n",
       "4                    12347          537626 2010-12-07 14:57:00        1423.58   \n",
       "...                    ...             ...                 ...            ...   \n",
       "36589                18287          523290 2010-09-21 12:19:00          30.60   \n",
       "36590                18287          534346 2010-11-22 11:51:00         331.50   \n",
       "36591                18287          554065 2011-05-22 10:39:00         765.28   \n",
       "36592                18287          570715 2011-10-12 10:23:00        1001.32   \n",
       "36593                18287          573167 2011-10-28 09:29:00          70.68   \n",
       "\n",
       "       r_BasketSize  \n",
       "0                 5  \n",
       "1                19  \n",
       "2             74215  \n",
       "3               509  \n",
       "4               638  \n",
       "...             ...  \n",
       "36589            12  \n",
       "36590           186  \n",
       "36591           488  \n",
       "36592           990  \n",
       "36593           108  \n",
       "\n",
       "[36594 rows x 5 columns]"
      ]
     },
     "execution_count": 3,
     "metadata": {},
     "output_type": "execute_result"
    }
   ],
   "source": [
    "uci_retail_co_df"
   ]
  },
  {
   "cell_type": "code",
   "execution_count": null,
   "id": "3e9622cb",
   "metadata": {},
   "outputs": [],
   "source": []
  },
  {
   "cell_type": "code",
   "execution_count": 2,
   "id": "3038dd5c",
   "metadata": {},
   "outputs": [],
   "source": [
    "vanilla = (\n",
    "    VanillaSampleStatistics(\n",
    "        dataset=\"uci_online_retail_ii_customer_order_view\",\n",
    "        response_col='r_BasketValue',\n",
    "        start_time=datetime(2009, 12, 1),\n",
    "        end_time=datetime(2012, 1, 1)\n",
    "    )\n",
    ")"
   ]
  },
  {
   "cell_type": "code",
   "execution_count": 3,
   "id": "5662ee5a",
   "metadata": {},
   "outputs": [
    {
     "data": {
      "text/plain": [
       "476.42959903262823"
      ]
     },
     "execution_count": 3,
     "metadata": {},
     "output_type": "execute_result"
    }
   ],
   "source": [
    "vanilla.mean()"
   ]
  },
  {
   "cell_type": "code",
   "execution_count": 4,
   "id": "847ea234",
   "metadata": {},
   "outputs": [
    {
     "data": {
      "text/plain": [
       "7.183842985657441"
      ]
     },
     "execution_count": 4,
     "metadata": {},
     "output_type": "execute_result"
    }
   ],
   "source": [
    "vanilla.standard_error()"
   ]
  },
  {
   "cell_type": "code",
   "execution_count": 5,
   "id": "f3fee740",
   "metadata": {},
   "outputs": [],
   "source": [
    "oneway = (\n",
    "    OnewayBootstrapStatistics(\n",
    "        dataset=\"uci_online_retail_ii_customer_order_view\",\n",
    "        response_col='r_BasketValue',\n",
    "        start_time=datetime(2009, 12, 1),\n",
    "        end_time=datetime(2012, 1, 1)\n",
    "    )\n",
    ")"
   ]
  },
  {
   "cell_type": "code",
   "execution_count": 6,
   "id": "7a35ed37",
   "metadata": {},
   "outputs": [
    {
     "name": "stdout",
     "output_type": "stream",
     "text": [
      "Calculating bootstrap mean 500/500...\r"
     ]
    },
    {
     "data": {
      "text/plain": [
       "25.1852944955207"
      ]
     },
     "execution_count": 6,
     "metadata": {},
     "output_type": "execute_result"
    }
   ],
   "source": [
    "oneway.standard_error(num_bootstrap_means=500, verbose=True)"
   ]
  },
  {
   "cell_type": "code",
   "execution_count": 7,
   "id": "324b8b0f",
   "metadata": {},
   "outputs": [],
   "source": [
    "oneway.save_latest_result_as_pd_df()"
   ]
  },
  {
   "cell_type": "code",
   "execution_count": 8,
   "id": "ed8d8191",
   "metadata": {},
   "outputs": [
    {
     "data": {
      "text/plain": [
       "<matplotlib.lines.Line2D at 0x121d79af0>"
      ]
     },
     "execution_count": 8,
     "metadata": {},
     "output_type": "execute_result"
    },
    {
     "data": {
      "image/png": "[encoded data removed]",
      "text/plain": [
       "<Figure size 640x480 with 1 Axes>"
      ]
     },
     "metadata": {},
     "output_type": "display_data"
    }
   ],
   "source": [
    "plt.hist(oneway.latest_means, bins=20)\n",
    "plt.axvline(vanilla.mean(), c='red')"
   ]
  },
  {
   "cell_type": "code",
   "execution_count": 9,
   "id": "1c580048",
   "metadata": {},
   "outputs": [
    {
     "data": {
      "text/html": [
       "<div>\n",
       "<style scoped>\n",
       "    .dataframe tbody tr th:only-of-type {\n",
       "        vertical-align: middle;\n",
       "    }\n",
       "\n",
       "    .dataframe tbody tr th {\n",
       "        vertical-align: top;\n",
       "    }\n",
       "\n",
       "    .dataframe thead th {\n",
       "        text-align: right;\n",
       "    }\n",
       "</style>\n",
       "<table border=\"1\" class=\"dataframe\">\n",
       "  <thead>\n",
       "    <tr style=\"text-align: right;\">\n",
       "      <th></th>\n",
       "      <th>dataset_name</th>\n",
       "      <th>response_col</th>\n",
       "      <th>start_time</th>\n",
       "      <th>end_time</th>\n",
       "      <th>num_bootstrap_means</th>\n",
       "      <th>bootstrap_mean</th>\n",
       "      <th>bootstrap_means</th>\n",
       "      <th>bootstrap_standard_error</th>\n",
       "      <th>count</th>\n",
       "    </tr>\n",
       "  </thead>\n",
       "  <tbody>\n",
       "    <tr>\n",
       "      <th>0</th>\n",
       "      <td>uci_online_retail_ii_customer_order_view</td>\n",
       "      <td>r_BasketValue</td>\n",
       "      <td>2009-12-01</td>\n",
       "      <td>2012-01-01</td>\n",
       "      <td>500</td>\n",
       "      <td>477.220267</td>\n",
       "      <td>[462.7314145728643, 465.1483613982705, 431.872...</td>\n",
       "      <td>25.185294</td>\n",
       "      <td>36594</td>\n",
       "    </tr>\n",
       "  </tbody>\n",
       "</table>\n",
       "</div>"
      ],
      "text/plain": [
       "                               dataset_name   response_col start_time  \\\n",
       "0  uci_online_retail_ii_customer_order_view  r_BasketValue 2009-12-01   \n",
       "\n",
       "    end_time  num_bootstrap_means  bootstrap_mean  \\\n",
       "0 2012-01-01                  500      477.220267   \n",
       "\n",
       "                                     bootstrap_means  \\\n",
       "0  [462.7314145728643, 465.1483613982705, 431.872...   \n",
       "\n",
       "   bootstrap_standard_error  count  \n",
       "0                 25.185294  36594  "
      ]
     },
     "execution_count": 9,
     "metadata": {},
     "output_type": "execute_result"
    }
   ],
   "source": [
    "pd.read_parquet(\"data/expt_oneway_uci-online-retail-ii-customer-order-view_r-BasketValue_1667179189.parquet\")"
   ]
  },
  {
   "cell_type": "code",
   "execution_count": null,
   "id": "525e36e8",
   "metadata": {},
   "outputs": [],
   "source": []
  },
  {
   "cell_type": "code",
   "execution_count": 17,
   "id": "94891251",
   "metadata": {},
   "outputs": [
    {
     "data": {
      "text/plain": [
       "Timestamp('2009-12-01 07:45:00')"
      ]
     },
     "execution_count": 17,
     "metadata": {},
     "output_type": "execute_result"
    }
   ],
   "source": [
    "min(oneway.dataset[\"EventReceivedTime\"])"
   ]
  },
  {
   "cell_type": "code",
   "execution_count": 18,
   "id": "330c4f8f",
   "metadata": {},
   "outputs": [
    {
     "data": {
      "text/plain": [
       "Timestamp('2011-12-09 12:50:00')"
      ]
     },
     "execution_count": 18,
     "metadata": {},
     "output_type": "execute_result"
    }
   ],
   "source": [
    "max(oneway.dataset[\"EventReceivedTime\"])"
   ]
  },
  {
   "cell_type": "code",
   "execution_count": 22,
   "id": "88934fba",
   "metadata": {},
   "outputs": [],
   "source": [
    "test = (\n",
    "    OnewayBootstrapStatistics(\n",
    "        dataset=uci_retail_co_df,\n",
    "        response_col='r_BasketValue',\n",
    "        start_time=datetime(2009, 12, 1),\n",
    "        end_time=datetime(2010, 1, 1)\n",
    "    )\n",
    ")"
   ]
  },
  {
   "cell_type": "code",
   "execution_count": 25,
   "id": "bbee4b33",
   "metadata": {},
   "outputs": [
    {
     "data": {
      "text/plain": [
       "454.9540547762191"
      ]
     },
     "execution_count": 25,
     "metadata": {},
     "output_type": "execute_result"
    }
   ],
   "source": [
    "VanillaSampleStatistics(\n",
    "    dataset=uci_retail_co_df,\n",
    "    response_col='r_BasketValue',\n",
    "    start_time=datetime(2009, 12, 1),\n",
    "    end_time=datetime(2010, 1, 1)\n",
    ").mean()"
   ]
  },
  {
   "cell_type": "code",
   "execution_count": 26,
   "id": "47ec3ba0",
   "metadata": {},
   "outputs": [
    {
     "data": {
      "text/plain": [
       "20.7153738710143"
      ]
     },
     "execution_count": 26,
     "metadata": {},
     "output_type": "execute_result"
    }
   ],
   "source": [
    "VanillaSampleStatistics(\n",
    "    dataset=uci_retail_co_df,\n",
    "    response_col='r_BasketValue',\n",
    "    start_time=datetime(2009, 12, 1),\n",
    "    end_time=datetime(2010, 1, 1)\n",
    ").standard_error()"
   ]
  },
  {
   "cell_type": "code",
   "execution_count": 23,
   "id": "a3e18a30",
   "metadata": {},
   "outputs": [
    {
     "name": "stdout",
     "output_type": "stream",
     "text": [
      "Calculating bootstrap mean 500/500...\r"
     ]
    },
    {
     "data": {
      "text/plain": [
       "33.361322137953174"
      ]
     },
     "execution_count": 23,
     "metadata": {},
     "output_type": "execute_result"
    }
   ],
   "source": [
    "test.standard_error(num_bootstrap_means=500, verbose=True)"
   ]
  },
  {
   "cell_type": "code",
   "execution_count": null,
   "id": "0982cc74",
   "metadata": {},
   "outputs": [],
   "source": []
  },
  {
   "cell_type": "code",
   "execution_count": null,
   "id": "d2203f75",
   "metadata": {},
   "outputs": [
    {
     "name": "stdout",
     "output_type": "stream",
     "text": [
      "Calculating bootstrap mean 260/500...\r"
     ]
    }
   ],
   "source": [
    "uci_retail_co_abv_oneway = (\n",
    "    OnewayBootstrapStatistics(\n",
    "        dataset=\"uci_online_retail_ii_customer_order_view\",\n",
    "        response_col='r_BasketValue',\n",
    "        start_time=datetime(2009, 12, 1),\n",
    "        end_time=datetime(2012, 1, 1)\n",
    "    )\n",
    ")\n",
    "\n",
    "for i in range(0, 30):\n",
    "    uci_retail_co_abv_oneway.standard_error(num_bootstrap_means=500, verbose=True)\n",
    "    uci_retail_co_abv_oneway.save_result_as_pd_df()\n",
    "    print(f\"Run {i} saved.\")"
   ]
  },
  {
   "cell_type": "code",
   "execution_count": null,
   "id": "11a4139b",
   "metadata": {},
   "outputs": [],
   "source": [
    "uci_retail_co_abs_oneway = (\n",
    "    OnewayBootstrapStatistics(\n",
    "        dataset=\"uci_online_retail_ii_customer_order_view\",\n",
    "        response_col='r_BasketSize',\n",
    "        start_time=datetime(2009, 12, 1),\n",
    "        end_time=datetime(2012, 1, 1)\n",
    "    )\n",
    ")\n",
    "\n",
    "for i in range(0, 30):\n",
    "    uci_retail_co_abs_oneway.standard_error(num_bootstrap_means=500, verbose=True)\n",
    "    uci_retail_co_abs_oneway.save_result_as_pd_df()\n",
    "    print(f\"Run {i} saved.\")"
   ]
  },
  {
   "cell_type": "code",
   "execution_count": null,
   "id": "57b89552",
   "metadata": {},
   "outputs": [],
   "source": [
    "uci_retail_coi_asp_oneway = (\n",
    "    OnewayBootstrapStatistics(\n",
    "        dataset=\"uci_online_retail_ii_customer_order_item_view\",\n",
    "        response_col='r_SellingPrice',\n",
    "        start_time=datetime(2009, 12, 1),\n",
    "        end_time=datetime(2012, 1, 1)\n",
    "    )\n",
    ")\n",
    "\n",
    "for i in range(0, 10):\n",
    "    uci_retail_coi_asp_oneway.standard_error(num_bootstrap_means=500, verbose=True)\n",
    "    uci_retail_coi_asp_oneway.save_result_as_pd_df()\n",
    "    print(f\"Run {i} saved.\")"
   ]
  },
  {
   "cell_type": "code",
   "execution_count": null,
   "id": "99855e0d",
   "metadata": {},
   "outputs": [],
   "source": []
  }
 ],
 "metadata": {
  "kernelspec": {
   "display_name": "Python 3 (ipykernel)",
   "language": "python",
   "name": "python3"
  },
  "language_info": {
   "codemirror_mode": {
    "name": "ipython",
    "version": 3
   },
   "file_extension": ".py",
   "mimetype": "text/x-python",
   "name": "python",
   "nbconvert_exporter": "python",
   "pygments_lexer": "ipython3",
   "version": "3.9.10"
  }
 },
 "nbformat": 4,
 "nbformat_minor": 5
}
