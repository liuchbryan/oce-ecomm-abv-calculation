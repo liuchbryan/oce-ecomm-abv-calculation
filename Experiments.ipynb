{
 "cells": [
  {
   "cell_type": "code",
   "execution_count": 1,
   "id": "4974e98c",
   "metadata": {},
   "outputs": [],
   "source": [
    "import os, sys\n",
    "sys.path.append(os.path.join(os.getcwd(), 'src/'))\n",
    "\n",
    "from oce_ecomm_abv_calculation.sample_statistics.vanilla import VanillaSampleStatistics\n",
    "from oce_ecomm_abv_calculation.sample_statistics.oneway_bootstrap import OnewayBootstrapStatistics\n",
    "from datetime import datetime"
   ]
  },
  {
   "cell_type": "markdown",
   "id": "e769aa01",
   "metadata": {},
   "source": [
    "# UCI Online Retail II Dataset"
   ]
  },
  {
   "cell_type": "markdown",
   "id": "32935150",
   "metadata": {},
   "source": [
    "Some end dates used in our experiments:\n",
    "\n",
    "* `datetime(2009, 12, 15)` - 14 days\n",
    "* `datetime(2009, 12, 29)` - 28 days\n",
    "* `datetime(2010, 1, 12)` - 42 days / 6 weeks\n",
    "* `datetime(2010, 1, 26)` - 56 days / 8 weeks\n",
    "* `datetime(2010, 2, 13)` - 74 days (10% of dataset duration)\n",
    "* `datetime(2010, 4, 28)` - 148 days (20% of dataset duration)\n",
    "* `datetime(2010, 7, 11)` - 222 days (30% of dataset duration)\n",
    "* `datetime(2010, 9, 23)` - 296 days (40% of dataset duration)\n",
    "* `datetime(2010, 12, 6)` - 370 days (50% of dataset duration)\n",
    "* `datetime(2011, 2, 18)` - 444 days (60% of dataset duration)\n",
    "* `datetime(2011, 5, 3)` - 518 days (70% of dataset duration)\n",
    "* `datetime(2011, 7, 16)` - 592 days (80% of dataset duration)\n",
    "* `datetime(2011, 9, 28)` - 666 days (90% of dataset duration)\n",
    "* `datetime(2012, 1, 1)` - Full dataset duration\n",
    "\n",
    "These end dates define the expanding windows, which simulate different experiment durations."
   ]
  },
  {
   "cell_type": "markdown",
   "id": "7f1b8170",
   "metadata": {},
   "source": [
    "## UCI Online Retail II - ABV (Oneway bootstrap estimation)"
   ]
  },
  {
   "cell_type": "code",
   "execution_count": null,
   "id": "9c610535",
   "metadata": {},
   "outputs": [],
   "source": [
    "start_date = datetime(2009, 12, 1)\n",
    "end_date = datetime(2009, 12, 29)\n",
    "\n",
    "num_std_error_samples = 10\n",
    "num_bootstrap_means = 500\n",
    "\n",
    "uci_retail_co_abv_oneway = (\n",
    "    OnewayBootstrapStatistics(\n",
    "        dataset=\"uci_online_retail_ii_customer_order_view\",\n",
    "        response_col='r_BasketValue',\n",
    "        start_time=start_date,\n",
    "        end_time=end_date\n",
    "    )\n",
    ")\n",
    "\n",
    "for i in range(1, num_std_error_samples + 1):\n",
    "    uci_retail_co_abv_oneway.standard_error(num_bootstrap_means=num_bootstrap_means, verbose=True)\n",
    "    uci_retail_co_abv_oneway.save_latest_result_as_pd_df()\n",
    "    print(f\"Run {i} saved.                              \")"
   ]
  },
  {
   "cell_type": "markdown",
   "id": "56f6d4fa",
   "metadata": {},
   "source": [
    "## UCI Online Retail II - ABS (Oneway bootstrap estimation)"
   ]
  },
  {
   "cell_type": "code",
   "execution_count": null,
   "id": "8bac732a",
   "metadata": {},
   "outputs": [],
   "source": [
    "start_date = datetime(2009, 12, 1)\n",
    "end_date = datetime(2009, 12, 29)\n",
    "\n",
    "num_std_error_samples = 10\n",
    "num_bootstrap_means = 500\n",
    "\n",
    "uci_retail_co_abs_oneway = (\n",
    "    OnewayBootstrapStatistics(\n",
    "        dataset=\"uci_online_retail_ii_customer_order_view\",\n",
    "        response_col='r_BasketValue',\n",
    "        start_time=start_date,\n",
    "        end_time=end_date\n",
    "    )\n",
    ")\n",
    "\n",
    "for i in range(1, num_std_error_samples + 1):\n",
    "    uci_retail_co_abs_oneway.standard_error(num_bootstrap_means=num_bootstrap_means, verbose=True)\n",
    "    uci_retail_co_abs_oneway.save_latest_result_as_pd_df()\n",
    "    print(f\"Run {i} saved.                              \")"
   ]
  },
  {
   "cell_type": "markdown",
   "id": "1eaf7d46",
   "metadata": {},
   "source": [
    "## UCI Online Retail II - ASP (Oneway bootstrap estimation)"
   ]
  },
  {
   "cell_type": "code",
   "execution_count": null,
   "id": "80721500",
   "metadata": {},
   "outputs": [],
   "source": [
    "start_date = datetime(2009, 12, 1)\n",
    "end_date = datetime(2009, 12, 29)\n",
    "\n",
    "num_std_error_samples = 1\n",
    "num_bootstrap_means = 500\n",
    "\n",
    "uci_retail_coi_asp_oneway = (\n",
    "    OnewayBootstrapStatistics(\n",
    "        dataset=\"uci_online_retail_ii_customer_order_item_view\",\n",
    "        response_col='r_SellingPrice',\n",
    "        start_time=start_date,\n",
    "        end_time=end_date\n",
    "    )\n",
    ")\n",
    "\n",
    "for i in range(1, num_std_error_samples + 1):\n",
    "    uci_retail_coi_asp_oneway.standard_error(num_bootstrap_means=num_bootstrap_means, verbose=True)\n",
    "    uci_retail_coi_asp_oneway.save_latest_result_as_pd_df()\n",
    "    print(f\"Run {i} saved.                               \")"
   ]
  },
  {
   "cell_type": "code",
   "execution_count": null,
   "id": "2b51b8c4",
   "metadata": {},
   "outputs": [],
   "source": []
  },
  {
   "cell_type": "markdown",
   "id": "306384d5",
   "metadata": {},
   "source": [
    "# Olist Brazilian e-Commerce Dataset\n",
    "\n",
    "Some end dates used in our experiments:\n",
    "\n",
    "* `datetime(2016, 10, 18)` - first month (with only 2 orders) + 14 days\n",
    "* `datetime(2016, 11, 1)` - first month (with only 2 orders) + 28 days\n",
    "* `datetime(2016, 11, 15)` - first month (with only 2 orders) + 42 days / 6 weeks\n",
    "* `datetime(2016, 11, 29)` - first month (with only 2 orders) + 56 days / 8 weeks\n",
    "* `datetime(2017, 1, 28)` - 146 days (20% of dataset duration)\n",
    "* `datetime(2017, 4, 11)` - 219 days (30% of dataset duration)\n",
    "* `datetime(2017, 6, 23)` - 292 days (40% of dataset duration)\n",
    "* `datetime(2017, 9, 4)` - 365 days (50% of dataset duration / 1 year)\n",
    "* `datetime(2017, 11, 16)` - 438 days (60% of dataset duration)\n",
    "* `datetime(2018, 1, 28)` - 511 days (70% of dataset duration)\n",
    "* `datetime(2018, 4, 11)` - 584 days (80% of dataset duration)\n",
    "* `datetime(2018, 6, 23)` - 657 days (90% of dataset duration)\n",
    "* `datetime(2018, 9, 4)` - Full dataset duration\n",
    "\n",
    "These end dates define the expanding windows, which simulate different experiment durations."
   ]
  },
  {
   "cell_type": "markdown",
   "id": "c4c412c7",
   "metadata": {},
   "source": [
    "## Olist Brazilian e-Commerce - ABV (Oneway bootstrap estimation)"
   ]
  },
  {
   "cell_type": "code",
   "execution_count": 3,
   "id": "61688419",
   "metadata": {},
   "outputs": [
    {
     "name": "stdout",
     "output_type": "stream",
     "text": [
      "Run 1 saved.                                   \n",
      "Run 2 saved.                                   \n",
      "Run 3 saved.                                   \n",
      "Run 4 saved.                                   \n",
      "Run 5 saved.                                   \n",
      "Run 6 saved.                                   \n",
      "Run 7 saved.                                   \n",
      "Run 8 saved.                                   \n",
      "Run 9 saved.                                   \n",
      "Run 10 saved.                                   \n"
     ]
    }
   ],
   "source": [
    "start_date = datetime(2016, 9, 4)\n",
    "end_date = datetime(2016, 11, 1)\n",
    "\n",
    "num_std_error_samples = 10\n",
    "num_bootstrap_means = 500\n",
    "\n",
    "olist_ecommerce_co_abv_oneway = (\n",
    "    OnewayBootstrapStatistics(\n",
    "        dataset=\"olist_brazilian_ecommerce_customer_order_view\",\n",
    "        response_col='r_BasketValue',\n",
    "        start_time=start_date,\n",
    "        end_time=end_date\n",
    "    )\n",
    ")\n",
    "\n",
    "for i in range(1, num_std_error_samples + 1):\n",
    "    olist_ecommerce_co_abv_oneway.standard_error(num_bootstrap_means=num_bootstrap_means, verbose=True)\n",
    "    olist_ecommerce_co_abv_oneway.save_latest_result_as_pd_df()\n",
    "    print(f\"Run {i} saved.                                   \")"
   ]
  },
  {
   "cell_type": "markdown",
   "id": "52ddb186",
   "metadata": {},
   "source": [
    "## Olist Brazilian e-Commerce - ABS (Oneway bootstrap estimation)"
   ]
  },
  {
   "cell_type": "code",
   "execution_count": 4,
   "id": "105db035",
   "metadata": {},
   "outputs": [
    {
     "name": "stdout",
     "output_type": "stream",
     "text": [
      "Run 1 saved.                                   \n",
      "Run 2 saved.                                   \n",
      "Run 3 saved.                                   \n",
      "Run 4 saved.                                   \n",
      "Run 5 saved.                                   \n",
      "Run 6 saved.                                   \n",
      "Run 7 saved.                                   \n",
      "Run 8 saved.                                   \n",
      "Run 9 saved.                                   \n",
      "Run 10 saved.                                   \n"
     ]
    }
   ],
   "source": [
    "start_date = datetime(2016, 9, 4)\n",
    "end_date = datetime(2016, 11, 1)\n",
    "\n",
    "num_std_error_samples = 10\n",
    "num_bootstrap_means = 500\n",
    "\n",
    "olist_ecommerce_co_abs_oneway = (\n",
    "    OnewayBootstrapStatistics(\n",
    "        dataset=\"olist_brazilian_ecommerce_customer_order_view\",\n",
    "        response_col='r_BasketSize',\n",
    "        start_time=start_date,\n",
    "        end_time=end_date\n",
    "    )\n",
    ")\n",
    "\n",
    "for i in range(1, num_std_error_samples + 1):\n",
    "    olist_ecommerce_co_abs_oneway.standard_error(num_bootstrap_means=num_bootstrap_means, verbose=True)\n",
    "    olist_ecommerce_co_abs_oneway.save_latest_result_as_pd_df()\n",
    "    print(f\"Run {i} saved.                                   \")"
   ]
  },
  {
   "cell_type": "markdown",
   "id": "49e752de",
   "metadata": {},
   "source": [
    "## Olist Brazilian e-Commerce - ASP (Oneway bootstrap estimation)"
   ]
  },
  {
   "cell_type": "code",
   "execution_count": 5,
   "id": "199d3998",
   "metadata": {},
   "outputs": [
    {
     "name": "stdout",
     "output_type": "stream",
     "text": [
      "Run 1 saved.                                    \n",
      "Run 2 saved.                                    \n",
      "Run 3 saved.                                    \n",
      "Run 4 saved.                                    \n",
      "Run 5 saved.                                    \n",
      "Run 6 saved.                                    \n",
      "Run 7 saved.                                    \n",
      "Run 8 saved.                                    \n",
      "Run 9 saved.                                    \n",
      "Run 10 saved.                                    \n"
     ]
    }
   ],
   "source": [
    "start_date = datetime(2016, 9, 4)\n",
    "end_date = datetime(2016, 11, 1)\n",
    "\n",
    "num_std_error_samples = 10\n",
    "num_bootstrap_means = 500\n",
    "\n",
    "olist_ecommerce_coi_asp_oneway = (\n",
    "    OnewayBootstrapStatistics(\n",
    "        dataset=\"olist_brazilian_ecommerce_customer_order_item_view\",\n",
    "        response_col='r_SellingPrice',\n",
    "        start_time=start_date,\n",
    "        end_time=end_date\n",
    "    )\n",
    ")\n",
    "\n",
    "for i in range(1, num_std_error_samples + 1):\n",
    "    olist_ecommerce_coi_asp_oneway.standard_error(num_bootstrap_means=num_bootstrap_means, verbose=True)\n",
    "    olist_ecommerce_coi_asp_oneway.save_latest_result_as_pd_df()\n",
    "    print(f\"Run {i} saved.                                    \")"
   ]
  },
  {
   "cell_type": "code",
   "execution_count": null,
   "id": "b060e637",
   "metadata": {},
   "outputs": [],
   "source": []
  }
 ],
 "metadata": {
  "kernelspec": {
   "display_name": "Python 3 (ipykernel)",
   "language": "python",
   "name": "python3"
  },
  "language_info": {
   "codemirror_mode": {
    "name": "ipython",
    "version": 3
   },
   "file_extension": ".py",
   "mimetype": "text/x-python",
   "name": "python",
   "nbconvert_exporter": "python",
   "pygments_lexer": "ipython3",
   "version": "3.9.10"
  }
 },
 "nbformat": 4,
 "nbformat_minor": 5
}
