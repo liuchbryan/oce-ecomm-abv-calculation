{
 "cells": [
  {
   "cell_type": "code",
   "execution_count": 1,
   "id": "12ea58eb",
   "metadata": {},
   "outputs": [],
   "source": [
    "import os \n",
    "import sys\n",
    "sys.path.append(os.path.join(os.getcwd(), 'src/'))"
   ]
  },
  {
   "cell_type": "code",
   "execution_count": 2,
   "id": "617a84f1",
   "metadata": {},
   "outputs": [
    {
     "data": {
      "text/plain": [
       "['/Users/Bryan.Liu/oce-ecomm-abv-calculation',\n",
       " '/Users/Bryan.Liu/.pyenv/versions/3.9.10/lib/python39.zip',\n",
       " '/Users/Bryan.Liu/.pyenv/versions/3.9.10/lib/python3.9',\n",
       " '/Users/Bryan.Liu/.pyenv/versions/3.9.10/lib/python3.9/lib-dynload',\n",
       " '',\n",
       " '/Users/Bryan.Liu/oce-ecomm-abv-calculation/.venv/lib/python3.9/site-packages',\n",
       " '/Users/Bryan.Liu/oce-ecomm-abv-calculation/src/']"
      ]
     },
     "execution_count": 2,
     "metadata": {},
     "output_type": "execute_result"
    }
   ],
   "source": [
    "sys.path"
   ]
  },
  {
   "cell_type": "code",
   "execution_count": 4,
   "id": "3e228526",
   "metadata": {},
   "outputs": [],
   "source": [
    "from oce_ecomm_abv_calculation.datasets.ecommerce_dataset import ECommerceDataset\n",
    "import pydantic\n",
    "\n",
    "class UCIOnlineRetailIIDataSet(ECommerceDataset):\n",
    "    pass"
   ]
  },
  {
   "cell_type": "code",
   "execution_count": null,
   "id": "c3c71a2d",
   "metadata": {},
   "outputs": [],
   "source": []
  },
  {
   "cell_type": "code",
   "execution_count": null,
   "id": "25ad9709",
   "metadata": {},
   "outputs": [],
   "source": []
  }
 ],
 "metadata": {
  "kernelspec": {
   "display_name": "Python 3 (ipykernel)",
   "language": "python",
   "name": "python3"
  },
  "language_info": {
   "codemirror_mode": {
    "name": "ipython",
    "version": 3
   },
   "file_extension": ".py",
   "mimetype": "text/x-python",
   "name": "python",
   "nbconvert_exporter": "python",
   "pygments_lexer": "ipython3",
   "version": "3.9.10"
  }
 },
 "nbformat": 4,
 "nbformat_minor": 5
}
