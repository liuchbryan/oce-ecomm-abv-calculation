{
 "cells": [
  {
   "cell_type": "code",
   "execution_count": 3,
   "id": "840a8797",
   "metadata": {},
   "outputs": [],
   "source": [
    "import os, sys\n",
    "sys.path.append(os.path.join(os.getcwd(), 'src/'))\n",
    "\n",
    "from datetime import datetime\n",
    "import glob"
   ]
  },
  {
   "cell_type": "code",
   "execution_count": 4,
   "id": "b8eb547b",
   "metadata": {},
   "outputs": [],
   "source": [
    "from oce_ecomm_abv_calculation.sample_statistics.twoway_bootstrap import TwowayBootstrapStatistics\n",
    "from oce_ecomm_abv_calculation.utils.experiment_data import consolidate_experiment_data_files"
   ]
  },
  {
   "cell_type": "code",
   "execution_count": null,
   "id": "024955c2",
   "metadata": {},
   "outputs": [
    {
     "name": "stdout",
     "output_type": "stream",
     "text": [
      "Calculating bootstrap mean 50/500...\r"
     ]
    }
   ],
   "source": [
    "start_date = datetime(2016, 9, 4)\n",
    "end_date = datetime(2018, 9, 4)\n",
    "\n",
    "num_std_error_samples = 5\n",
    "num_bootstrap_means = 500\n",
    "\n",
    "# Oneway bootstrap statistics\n",
    "olist_ecommerce_coi_asp_twoway = (\n",
    "    TwowayBootstrapStatistics(\n",
    "        dataset=\"olist_brazilian_ecommerce_customer_order_item_view\",\n",
    "        response_col='r_SellingPrice',\n",
    "        start_time=start_date,\n",
    "        end_time=end_date\n",
    "    )\n",
    ")\n",
    "\n",
    "for i in range(1, num_std_error_samples + 1):\n",
    "    olist_ecommerce_coi_asp_twoway.standard_error(num_bootstrap_means=num_bootstrap_means, verbose=True)\n",
    "    olist_ecommerce_coi_asp_twoway.save_latest_result_as_pd_df()\n",
    "    print(f\"Twoway bootstrap run {i} saved.                   \")"
   ]
  },
  {
   "cell_type": "code",
   "execution_count": null,
   "id": "a3e7bd95",
   "metadata": {},
   "outputs": [],
   "source": []
  }
 ],
 "metadata": {
  "kernelspec": {
   "display_name": "Python 3 (ipykernel)",
   "language": "python",
   "name": "python3"
  },
  "language_info": {
   "codemirror_mode": {
    "name": "ipython",
    "version": 3
   },
   "file_extension": ".py",
   "mimetype": "text/x-python",
   "name": "python",
   "nbconvert_exporter": "python",
   "pygments_lexer": "ipython3",
   "version": "3.9.10"
  }
 },
 "nbformat": 4,
 "nbformat_minor": 5
}
