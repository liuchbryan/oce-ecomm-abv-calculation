{
 "cells": [
  {
   "cell_type": "code",
   "execution_count": 5,
   "id": "1ff40288",
   "metadata": {},
   "outputs": [],
   "source": [
    "import os, sys\n",
    "sys.path.append(os.path.join(os.getcwd(), 'src/'))\n",
    "\n",
    "import pandas as pd\n",
    "pd.set_option('display.max_rows', 500)\n",
    "\n",
    "\n",
    "from oce_ecomm_abv_calculation.datasets.olist_brazilian_ecommerce import OlistBrazilianEcommerceDataset\n",
    "from oce_ecomm_abv_calculation.datasets.uci_online_retail_ii import UCIOnlineRetailIIDataset\n",
    "\n",
    "from oce_ecomm_abv_calculation.sample_statistics.vanilla import VanillaSampleStatistics\n",
    "from oce_ecomm_abv_calculation.sample_statistics.oneway_bootstrap import OnewayBootstrapStatistics\n",
    "from datetime import datetime\n",
    "\n",
    "\n",
    "from matplotlib import pyplot as plt\n",
    "import numpy as np"
   ]
  },
  {
   "cell_type": "code",
   "execution_count": 46,
   "id": "01007790",
   "metadata": {},
   "outputs": [],
   "source": [
    "df = OlistBrazilianEcommerceDataset().standardized_customer_order_item_data_view()\n"
   ]
  },
  {
   "cell_type": "code",
   "execution_count": 54,
   "id": "e4bab06e",
   "metadata": {},
   "outputs": [
    {
     "data": {
      "text/plain": [
       "120.37716648379588"
      ]
     },
     "execution_count": 54,
     "metadata": {},
     "output_type": "execute_result"
    }
   ],
   "source": [
    "df['r_SellingPrice'].mean()"
   ]
  },
  {
   "cell_type": "code",
   "execution_count": 61,
   "id": "e01d0f45",
   "metadata": {},
   "outputs": [],
   "source": [
    "# The seed of the RNG is made up of two components - the (hash of) the\n",
    "# Unit ID and the index of the bootstrap sample being taken.\n",
    "# Such seeding ensures the same unit in the same bootstrap sample gets the \n",
    "# same weight, while maintaining the randomness of weights overall.\n",
    "# See Section 2.2.4 of https://arxiv.org/pdf/1304.7406.pdf\n",
    "\n",
    "weights_generated = 4\n",
    "\n",
    "df['weight_RandomizationUnit'] = (\n",
    "    df['RandomizationUnitId'].apply(\n",
    "        lambda ruid: np.random.default_rng(\n",
    "            seed=abs(hash(ruid)) + weights_generated).poisson(lam=1.0)\n",
    "    )\n",
    ")\n",
    "df['weight_SecondaryUnit'] = (\n",
    "    df['SecondaryUnitId'].apply(\n",
    "        lambda suid: np.random.default_rng(\n",
    "            seed=abs(hash(suid)) + weights_generated).poisson(lam=1.0)\n",
    "    )\n",
    ")\n",
    "\n",
    "df['weight'] = df['weight_RandomizationUnit'] * df['weight_SecondaryUnit']"
   ]
  },
  {
   "cell_type": "code",
   "execution_count": 62,
   "id": "0c8dc743",
   "metadata": {},
   "outputs": [
    {
     "data": {
      "text/plain": [
       "119.90945024729209"
      ]
     },
     "execution_count": 62,
     "metadata": {},
     "output_type": "execute_result"
    }
   ],
   "source": [
    "# 119.5735304470257, 123.21655526434704, 120.98513065905219, 120.55122423010647\n",
    "\n",
    "np.sum(df['r_SellingPrice'] * df['weight']) / np.sum(df['weight'])"
   ]
  },
  {
   "cell_type": "code",
   "execution_count": 2,
   "id": "3038dd5c",
   "metadata": {},
   "outputs": [],
   "source": [
    "vanilla = (\n",
    "    VanillaSampleStatistics(\n",
    "        dataset=\"uci_online_retail_ii_customer_order_view\",\n",
    "        response_col='r_BasketValue',\n",
    "        start_time=datetime(2009, 12, 1),\n",
    "        end_time=datetime(2012, 1, 1)\n",
    "    )\n",
    ")"
   ]
  },
  {
   "cell_type": "code",
   "execution_count": 3,
   "id": "43db7020",
   "metadata": {},
   "outputs": [
    {
     "data": {
      "text/plain": [
       "476.42959903262823"
      ]
     },
     "execution_count": 3,
     "metadata": {},
     "output_type": "execute_result"
    }
   ],
   "source": [
    "vanilla.mean()"
   ]
  },
  {
   "cell_type": "code",
   "execution_count": 4,
   "id": "eaa20b98",
   "metadata": {},
   "outputs": [
    {
     "data": {
      "text/plain": [
       "7.183842985657441"
      ]
     },
     "execution_count": 4,
     "metadata": {},
     "output_type": "execute_result"
    }
   ],
   "source": [
    "vanilla.standard_error()"
   ]
  },
  {
   "cell_type": "code",
   "execution_count": 5,
   "id": "8c4bbac0",
   "metadata": {},
   "outputs": [],
   "source": [
    "oneway = (\n",
    "    OnewayBootstrapStatistics(\n",
    "        dataset=\"uci_online_retail_ii_customer_order_view\",\n",
    "        response_col='r_BasketValue',\n",
    "        start_time=datetime(2009, 12, 1),\n",
    "        end_time=datetime(2012, 1, 1)\n",
    "    )\n",
    ")"
   ]
  },
  {
   "cell_type": "code",
   "execution_count": 6,
   "id": "ce942701",
   "metadata": {},
   "outputs": [
    {
     "name": "stdout",
     "output_type": "stream",
     "text": [
      "Calculating bootstrap mean 500/500...\r"
     ]
    },
    {
     "data": {
      "text/plain": [
       "23.30019793460707"
      ]
     },
     "execution_count": 6,
     "metadata": {},
     "output_type": "execute_result"
    }
   ],
   "source": [
    "oneway.standard_error(num_bootstrap_means=500, verbose=True)"
   ]
  },
  {
   "cell_type": "code",
   "execution_count": 7,
   "id": "3c7250bf",
   "metadata": {},
   "outputs": [],
   "source": [
    "oneway.save_latest_result_as_pd_df()"
   ]
  },
  {
   "cell_type": "code",
   "execution_count": 8,
   "id": "67220782",
   "metadata": {},
   "outputs": [
    {
     "data": {
      "text/plain": [
       "<matplotlib.lines.Line2D at 0x1313c15b0>"
      ]
     },
     "execution_count": 8,
     "metadata": {},
     "output_type": "execute_result"
    },
    {
     "data": {
      "image/png": "[encoded data removed]",
      "text/plain": [
       "<Figure size 640x480 with 1 Axes>"
      ]
     },
     "metadata": {},
     "output_type": "display_data"
    }
   ],
   "source": [
    "plt.hist(oneway.latest_means, bins=20)\n",
    "plt.axvline(vanilla.mean(), c='red')"
   ]
  },
  {
   "cell_type": "code",
   "execution_count": 1,
   "id": "c509aaba",
   "metadata": {},
   "outputs": [],
   "source": []
  }
 ],
 "metadata": {
  "kernelspec": {
   "display_name": "Python 3 (ipykernel)",
   "language": "python",
   "name": "python3"
  },
  "language_info": {
   "codemirror_mode": {
    "name": "ipython",
    "version": 3
   },
   "file_extension": ".py",
   "mimetype": "text/x-python",
   "name": "python",
   "nbconvert_exporter": "python",
   "pygments_lexer": "ipython3",
   "version": "3.9.10"
  }
 },
 "nbformat": 4,
 "nbformat_minor": 5
}
